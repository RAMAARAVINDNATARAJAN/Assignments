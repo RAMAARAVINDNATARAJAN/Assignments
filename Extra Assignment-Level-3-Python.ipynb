{
 "cells": [
  {
   "cell_type": "code",
   "execution_count": 14,
   "id": "807934da",
   "metadata": {},
   "outputs": [
    {
     "name": "stdout",
     "output_type": "stream",
     "text": [
      "Value:10\n",
      "Correct\n"
     ]
    }
   ],
   "source": [
    "#print 'CORRECT' if i == 10\n",
    "i=int(input(\"Value:\"))\n",
    "if(i==10):\n",
    "    print(\"Correct\")"
   ]
  },
  {
   "cell_type": "code",
   "execution_count": 30,
   "id": "202cbdbe",
   "metadata": {},
   "outputs": [
    {
     "name": "stdout",
     "output_type": "stream",
     "text": [
      "Enter the password: Hope123\n",
      "Your password is Incorrect\n"
     ]
    }
   ],
   "source": [
    "# Check the password,using if and else\n",
    "name=str(input(\"Enter the password: \"))\n",
    "if(name==\"Hope@123\"):\n",
    "    print(\"Your password is Correct\")\n",
    "else:\n",
    "    print(\"Your password is Incorrect\")"
   ]
  },
  {
   "cell_type": "code",
   "execution_count": 38,
   "id": "b6aeddc8",
   "metadata": {},
   "outputs": [
    {
     "name": "stdout",
     "output_type": "stream",
     "text": [
      "Enter your age:20\n",
      "Adult\n"
     ]
    }
   ],
   "source": [
    "#Find Whether given number is positive or negative\n",
    "num=int(input(\"Enter your age:\"))\n",
    "if(num<=10):\n",
    "    print(\"children\")\n",
    "elif(num<=20):\n",
    "    print(\"Adult\")\n",
    "elif(num<=45):\n",
    "    print(\"Citizen\")\n",
    "else:\n",
    "    print(\"Senior citizen\")\n"
   ]
  },
  {
   "cell_type": "code",
   "execution_count": 41,
   "id": "92cac776",
   "metadata": {},
   "outputs": [
    {
     "name": "stdout",
     "output_type": "stream",
     "text": [
      "Enter any number:9876543\n",
      "The number is positive\n"
     ]
    }
   ],
   "source": [
    "#Check Whether the given number is divisible by 5\n",
    "number=int(input(\"Enter any number:\"))\n",
    "if(number>0):\n",
    "    print(\"The number is positive\")\n",
    "elif(number<0):\n",
    "    print(\"Tne number is negative\")\n",
    "else:\n",
    "    print(\"The number is  zero\")"
   ]
  },
  {
   "cell_type": "code",
   "execution_count": 45,
   "id": "c57922a9",
   "metadata": {},
   "outputs": [
    {
     "name": "stdout",
     "output_type": "stream",
     "text": [
      "Enter a number to check:13\n",
      "No is not divisible by 5\n"
     ]
    }
   ],
   "source": [
    "num1=int(input(\"Enter a number to check:\"))\n",
    "if(num1%5==0):\n",
    "    print(\"No is divisible by 5\")\n",
    "else:\n",
    "    print(\"No is not divisible by 5\")"
   ]
  }
 ],
 "metadata": {
  "kernelspec": {
   "display_name": "Python 3 (ipykernel)",
   "language": "python",
   "name": "python3"
  },
  "language_info": {
   "codemirror_mode": {
    "name": "ipython",
    "version": 3
   },
   "file_extension": ".py",
   "mimetype": "text/x-python",
   "name": "python",
   "nbconvert_exporter": "python",
   "pygments_lexer": "ipython3",
   "version": "3.11.5"
  }
 },
 "nbformat": 4,
 "nbformat_minor": 5
}
