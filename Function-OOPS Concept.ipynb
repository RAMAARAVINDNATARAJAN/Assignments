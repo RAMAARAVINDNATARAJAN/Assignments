{
 "cells": [
  {
   "cell_type": "code",
   "execution_count": 23,
   "id": "90bb1aa6",
   "metadata": {},
   "outputs": [],
   "source": [
    "List=[10,34,67,34,89,12,35,66,77,89,23,24,2.5,56]\n",
    "def Agecategoery():\n",
    "    for age in List:\n",
    "        if(age<=10):\n",
    "                print(\"Baby\")\n",
    "        elif(age<=20):\n",
    "            print(\"Children\")\n",
    "        elif(age<=30):\n",
    "            print(\"Adult\")\n",
    "        elif(age<=40):\n",
    "            print(\"Citizen\")\n",
    "        else:\n",
    "            print(\"Senior Citizen\")\n",
    "        "
   ]
  },
  {
   "cell_type": "code",
   "execution_count": 7,
   "id": "306e1a82",
   "metadata": {
    "scrolled": true
   },
   "outputs": [
    {
     "name": "stdout",
     "output_type": "stream",
     "text": [
      "Enter your age:34\n"
     ]
    }
   ],
   "source": [
    "age=int(input(\"Enter your age:\"))\n",
    "def Agecategoery():\n",
    "    if(age<=10):\n",
    "        print(\"Baby\")\n",
    "        cate=\"Baby\"\n",
    "    elif(age<=20):\n",
    "        print(\"Children\")\n",
    "        cate=\"Children\"\n",
    "    elif(age<=30):\n",
    "        print=(\"Adult\")\n",
    "        cate=\"Adult\"\n",
    "    elif(age<=40):\n",
    "        print(\"citizen\")\n",
    "        cate=\"citizen\"\n",
    "    else:\n",
    "        print(\"Senior Citizen\")\n",
    "        cate=\"Senior Citizen\"\n",
    "        return cate"
   ]
  },
  {
   "cell_type": "code",
   "execution_count": 8,
   "id": "92a2b406",
   "metadata": {},
   "outputs": [
    {
     "ename": "UnboundLocalError",
     "evalue": "cannot access local variable 'print' where it is not associated with a value",
     "output_type": "error",
     "traceback": [
      "\u001b[0;31m---------------------------------------------------------------------------\u001b[0m",
      "\u001b[0;31mUnboundLocalError\u001b[0m                         Traceback (most recent call last)",
      "Cell \u001b[0;32mIn[8], line 1\u001b[0m\n\u001b[0;32m----> 1\u001b[0m Agecategoery()\n",
      "Cell \u001b[0;32mIn[7], line 13\u001b[0m, in \u001b[0;36mAgecategoery\u001b[0;34m()\u001b[0m\n\u001b[1;32m     11\u001b[0m     cate\u001b[38;5;241m=\u001b[39m\u001b[38;5;124m\"\u001b[39m\u001b[38;5;124mAdult\u001b[39m\u001b[38;5;124m\"\u001b[39m\n\u001b[1;32m     12\u001b[0m \u001b[38;5;28;01melif\u001b[39;00m(age\u001b[38;5;241m<\u001b[39m\u001b[38;5;241m=\u001b[39m\u001b[38;5;241m40\u001b[39m):\n\u001b[0;32m---> 13\u001b[0m     \u001b[38;5;28mprint\u001b[39m(\u001b[38;5;124m\"\u001b[39m\u001b[38;5;124mcitizen\u001b[39m\u001b[38;5;124m\"\u001b[39m)\n\u001b[1;32m     14\u001b[0m     cate\u001b[38;5;241m=\u001b[39m\u001b[38;5;124m\"\u001b[39m\u001b[38;5;124mcitizen\u001b[39m\u001b[38;5;124m\"\u001b[39m\n\u001b[1;32m     15\u001b[0m \u001b[38;5;28;01melse\u001b[39;00m:\n",
      "\u001b[0;31mUnboundLocalError\u001b[0m: cannot access local variable 'print' where it is not associated with a value"
     ]
    }
   ],
   "source": [
    "Agecategoery()"
   ]
  },
  {
   "cell_type": "code",
   "execution_count": null,
   "id": "d4535647",
   "metadata": {},
   "outputs": [],
   "source": []
  }
 ],
 "metadata": {
  "kernelspec": {
   "display_name": "Python 3 (ipykernel)",
   "language": "python",
   "name": "python3"
  },
  "language_info": {
   "codemirror_mode": {
    "name": "ipython",
    "version": 3
   },
   "file_extension": ".py",
   "mimetype": "text/x-python",
   "name": "python",
   "nbconvert_exporter": "python",
   "pygments_lexer": "ipython3",
   "version": "3.11.5"
  }
 },
 "nbformat": 4,
 "nbformat_minor": 5
}
