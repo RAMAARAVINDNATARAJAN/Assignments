{
 "cells": [
  {
   "cell_type": "code",
   "execution_count": 101,
   "id": "10a16a3c",
   "metadata": {},
   "outputs": [],
   "source": [
    "def subfieldsInAISubfields():\n",
    "    print(\"Sub-fields in AI are:\")\n",
    "    list=[\"Machine Learning\",\"Neural Networks\",\"Vision\",\"Robotics\",\"Speech Processing\",\"Natural Language Processing\"]\n",
    "    for temp in list:\n",
    "        print(temp)"
   ]
  },
  {
   "cell_type": "code",
   "execution_count": 102,
   "id": "68d85c3b",
   "metadata": {},
   "outputs": [
    {
     "name": "stdout",
     "output_type": "stream",
     "text": [
      "Sub-fields in AI are:\n",
      "Machine Learning\n",
      "Neural Networks\n",
      "Vision\n",
      "Robotics\n",
      "Speech Processing\n",
      "Natural Language Processing\n"
     ]
    }
   ],
   "source": [
    "subfieldsInAISubfields()"
   ]
  },
  {
   "cell_type": "code",
   "execution_count": 155,
   "id": "040a5ced",
   "metadata": {},
   "outputs": [],
   "source": [
    "def OddEvenOddEven():\n",
    "    num=int(input(\"Enter a number:\"))\n",
    "    if(num%2)==0:\n",
    "        print(num,\"is Even number\")\n",
    "    else:\n",
    "        print(num,\"is Odd number\")"
   ]
  },
  {
   "cell_type": "code",
   "execution_count": 156,
   "id": "69617a04",
   "metadata": {
    "scrolled": false
   },
   "outputs": [
    {
     "name": "stdout",
     "output_type": "stream",
     "text": [
      "Enter a number:52452\n",
      "52452 is Even number\n"
     ]
    }
   ],
   "source": [
    "OddEvenOddEven()"
   ]
  },
  {
   "cell_type": "code",
   "execution_count": 99,
   "id": "16357ffa",
   "metadata": {},
   "outputs": [],
   "source": [
    "def ElegibilityForMarriageElegible():\n",
    "    sex=str(input(\"Your Gender:\"))\n",
    "    age=int(input(\"Enter your age:\"))\n",
    "    if(age>=21):\n",
    "        print(\"ELIGIBLE\")\n",
    "    else:\n",
    "        print(\"NOT ELIGIBLE\")"
   ]
  },
  {
   "cell_type": "code",
   "execution_count": 100,
   "id": "cc97c4b7",
   "metadata": {},
   "outputs": [
    {
     "name": "stdout",
     "output_type": "stream",
     "text": [
      "Your Gender:male\n",
      "Enter your age:20\n",
      "NOT ELIGIBLE\n"
     ]
    }
   ],
   "source": [
    "ElegibilityForMarriageElegible()"
   ]
  },
  {
   "cell_type": "code",
   "execution_count": 129,
   "id": "2252b756",
   "metadata": {},
   "outputs": [],
   "source": [
    "def Findpercentpercentage():\n",
    "    sub1=int(input(\"subject1:\"))\n",
    "    sub2=int(input(\"subject2:\"))\n",
    "    sub3=int(input(\"subject3:\"))\n",
    "    sub4=int(input(\"subject4:\"))\n",
    "    sub5=int(input(\"subject5:\"))\n",
    "    total=sub1+sub2+sub3+sub4+sub5\n",
    "    print(\"Total :\",int(total))\n",
    "    percentage = (total/500) * 100\n",
    "    print(\"Percentage :\",float(percentage))"
   ]
  },
  {
   "cell_type": "code",
   "execution_count": 130,
   "id": "f46feb85",
   "metadata": {},
   "outputs": [
    {
     "name": "stdout",
     "output_type": "stream",
     "text": [
      "subject1:98\n",
      "subject2:87\n",
      "subject3:95\n",
      "subject4:95\n",
      "subject5:93\n",
      "Total : 468\n",
      "Percentage : 93.60000000000001\n"
     ]
    }
   ],
   "source": [
    "Findpercentpercentage()"
   ]
  },
  {
   "cell_type": "code",
   "execution_count": 149,
   "id": "eb06df84",
   "metadata": {},
   "outputs": [],
   "source": [
    "def triangletriangle():\n",
    "    Height=float(input(\"Height:\"))\n",
    "    Breadth=float(input(\"Breadth:\"))\n",
    "    Areaformula=(Height*Breadth)/2\n",
    "    print(\"Area formula: (Height*Breadth)/2\")\n",
    "    AreaofTriangle=Areaformula\n",
    "    print(\"Area of Triangle:\",AreaofTriangle)\n",
    "    Height1=float(input(\"Height:\"))\n",
    "    Height2=float(input(\"Height:\"))\n",
    "    Breadth=float(input(\"Breadth:\")) \n",
    "    perimeterformula=Height1+Height2+Breadth\n",
    "    print(\"perimeter formula: Height1+Height2+Breadth\")\n",
    "    print(\"perimeter formula:\",int(perimeterformula))"
   ]
  },
  {
   "cell_type": "code",
   "execution_count": 150,
   "id": "f82ab661",
   "metadata": {},
   "outputs": [
    {
     "name": "stdout",
     "output_type": "stream",
     "text": [
      "Height:32\n",
      "Breadth:34\n",
      "Area formula: (Height*Breadth)/2\n",
      "Area of Triangle: 544.0\n",
      "Height:2\n",
      "Height:4\n",
      "Breadth:4\n",
      "perimeter formula: Height1+Height2+Breadth\n",
      "perimeter formula: 10\n"
     ]
    }
   ],
   "source": [
    "triangletriangle()"
   ]
  },
  {
   "cell_type": "code",
   "execution_count": null,
   "id": "b9f1ad5a",
   "metadata": {},
   "outputs": [],
   "source": []
  }
 ],
 "metadata": {
  "kernelspec": {
   "display_name": "Python 3 (ipykernel)",
   "language": "python",
   "name": "python3"
  },
  "language_info": {
   "codemirror_mode": {
    "name": "ipython",
    "version": 3
   },
   "file_extension": ".py",
   "mimetype": "text/x-python",
   "name": "python",
   "nbconvert_exporter": "python",
   "pygments_lexer": "ipython3",
   "version": "3.11.5"
  }
 },
 "nbformat": 4,
 "nbformat_minor": 5
}
