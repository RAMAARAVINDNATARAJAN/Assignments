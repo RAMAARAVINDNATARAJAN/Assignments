{
 "cells": [
  {
   "cell_type": "code",
   "execution_count": 20,
   "id": "1b84e888",
   "metadata": {},
   "outputs": [],
   "source": [
    "from mainlibrary import subfieldsInAI"
   ]
  },
  {
   "cell_type": "code",
   "execution_count": 21,
   "id": "5df4bd88",
   "metadata": {},
   "outputs": [
    {
     "name": "stdout",
     "output_type": "stream",
     "text": [
      "Sub-fields in AI are:\n",
      "Machine Learning\n",
      "Neural Networks\n",
      "Vision\n",
      "Robotics\n",
      "Speech Processing\n",
      "Natural Language Processing\n"
     ]
    }
   ],
   "source": [
    "Subfields.Subfield()"
   ]
  },
  {
   "cell_type": "code",
   "execution_count": 25,
   "id": "6c7e5fdb",
   "metadata": {},
   "outputs": [
    {
     "name": "stdout",
     "output_type": "stream",
     "text": [
      "Enter a number:56\n",
      "56 is Even number\n"
     ]
    }
   ],
   "source": [
    "subfieldsInAI.OddEvenOddEven()"
   ]
  },
  {
   "cell_type": "code",
   "execution_count": 26,
   "id": "912f3682",
   "metadata": {},
   "outputs": [
    {
     "name": "stdout",
     "output_type": "stream",
     "text": [
      "Your Gender:male\n",
      "Enter your age:45\n",
      "ELIGIBLE\n"
     ]
    }
   ],
   "source": [
    "subfieldsInAI.ElegibilityForMarriageElegible()"
   ]
  },
  {
   "cell_type": "code",
   "execution_count": 27,
   "id": "1da25fac",
   "metadata": {},
   "outputs": [
    {
     "name": "stdout",
     "output_type": "stream",
     "text": [
      "subject1:98\n",
      "subject2:87\n",
      "subject3:95\n",
      "subject4:95\n",
      "subject5:93\n",
      "Total : 468\n",
      "Percentage : 93.60000000000001\n"
     ]
    }
   ],
   "source": [
    "subfieldsInAI.Findpercentpercentage()"
   ]
  },
  {
   "cell_type": "code",
   "execution_count": 28,
   "id": "b841251e",
   "metadata": {},
   "outputs": [
    {
     "name": "stdout",
     "output_type": "stream",
     "text": [
      "Height:32\n",
      "Breadth:34\n",
      "Area formula: (Height*Breadth)/2\n",
      "Area of Triangle: 544.0\n",
      "Height:2\n",
      "Height:4\n",
      "Breadth:4\n",
      "perimeter formula: Height1+Height2+Breadth\n",
      "perimeter formula: 10\n"
     ]
    }
   ],
   "source": [
    "subfieldsInAI.triangletriangle()"
   ]
  },
  {
   "cell_type": "code",
   "execution_count": null,
   "id": "51a6246a",
   "metadata": {},
   "outputs": [],
   "source": []
  }
 ],
 "metadata": {
  "kernelspec": {
   "display_name": "Python 3 (ipykernel)",
   "language": "python",
   "name": "python3"
  },
  "language_info": {
   "codemirror_mode": {
    "name": "ipython",
    "version": 3
   },
   "file_extension": ".py",
   "mimetype": "text/x-python",
   "name": "python",
   "nbconvert_exporter": "python",
   "pygments_lexer": "ipython3",
   "version": "3.11.5"
  }
 },
 "nbformat": 4,
 "nbformat_minor": 5
}
